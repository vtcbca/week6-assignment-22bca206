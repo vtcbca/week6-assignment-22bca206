{
 "cells": [
  {
   "cell_type": "markdown",
   "id": "5406564c",
   "metadata": {},
   "source": [
    "### 1. Create a result table which contain student id, student name and 5 subject marks. "
   ]
  },
  {
   "cell_type": "code",
   "execution_count": 1,
   "id": "9f6aa90a",
   "metadata": {},
   "outputs": [],
   "source": [
    "import sqlite3"
   ]
  },
  {
   "cell_type": "code",
   "execution_count": 2,
   "id": "1452b18a",
   "metadata": {},
   "outputs": [],
   "source": [
    "con=sqlite3.connect('D://PythonPractice//result_database2.db')"
   ]
  },
  {
   "cell_type": "code",
   "execution_count": 3,
   "id": "5793abb8",
   "metadata": {},
   "outputs": [],
   "source": [
    "cur=con.cursor()"
   ]
  },
  {
   "cell_type": "code",
   "execution_count": 4,
   "id": "6e3b5b76",
   "metadata": {},
   "outputs": [],
   "source": [
    "create_tbl='''create table if not exists result_tbl\n",
    "              (\n",
    "                  Student_id int Primary key,\n",
    "                  Student_name text NOT NULL,\n",
    "                  subject1_marks int,\n",
    "                  subject2_marks int,\n",
    "                  subject3_marks int,\n",
    "                  subject4_marks int,\n",
    "                  subject5_marks int)'''"
   ]
  },
  {
   "cell_type": "code",
   "execution_count": 5,
   "id": "95e621ed",
   "metadata": {},
   "outputs": [
    {
     "data": {
      "text/plain": [
       "<sqlite3.Cursor at 0x2bb0e7762c0>"
      ]
     },
     "execution_count": 5,
     "metadata": {},
     "output_type": "execute_result"
    }
   ],
   "source": [
    "cur.execute(create_tbl)"
   ]
  },
  {
   "cell_type": "markdown",
   "id": "b6856f31",
   "metadata": {},
   "source": [
    "### 2. Enter 10 studnet details with its marks."
   ]
  },
  {
   "cell_type": "code",
   "execution_count": 6,
   "id": "fafa5a63",
   "metadata": {},
   "outputs": [],
   "source": [
    "insert_record='''insert into result_tbl values(1,'Jay Sharma',67,78,77,88,56),\n",
    "                                              (2,'Shree Patel',75,77,65,87,66),\n",
    "                                              (3,'Ram Sharma',67,78,77,88,56),\n",
    "                                              (4,'Ram Patel',49,35,45,58,60),\n",
    "                                              (5,'Shiv Desai',55,40,67,68,56),\n",
    "                                              (6,'Shivu Patel',92,93,96,88,85),\n",
    "                                              (7,'Krishna Prajapati',29,35,43,40,51),\n",
    "                                              (8,'Krish Patel',70,65,55,62,56),\n",
    "                                              (9,'Radhika Sharma',87,85,77,70,88),\n",
    "                                              (10,'Radha Desai',89,98,87,88,86)'''\n"
   ]
  },
  {
   "cell_type": "code",
   "execution_count": 7,
   "id": "233df922",
   "metadata": {},
   "outputs": [
    {
     "data": {
      "text/plain": [
       "<sqlite3.Cursor at 0x2bb0e7762c0>"
      ]
     },
     "execution_count": 7,
     "metadata": {},
     "output_type": "execute_result"
    }
   ],
   "source": [
    "cur.execute(insert_record)"
   ]
  },
  {
   "cell_type": "code",
   "execution_count": 8,
   "id": "93b6b28a",
   "metadata": {},
   "outputs": [],
   "source": [
    "records='select * from result_tbl'\n",
    "cur.execute(records)\n",
    "data=cur.fetchall()"
   ]
  },
  {
   "cell_type": "markdown",
   "id": "5012140b",
   "metadata": {},
   "source": [
    "### 3. Dump table into csv file \"result.csv\"."
   ]
  },
  {
   "cell_type": "code",
   "execution_count": 9,
   "id": "8a50c7fc",
   "metadata": {},
   "outputs": [],
   "source": [
    "import csv"
   ]
  },
  {
   "cell_type": "code",
   "execution_count": 10,
   "id": "04e022b2",
   "metadata": {},
   "outputs": [],
   "source": [
    "with open('D://PythonPractice//result.csv', 'w+', newline='') as file:\n",
    "    fileobj = csv.writer(file)\n",
    "    head = ['Student_ID', 'Student_Name', 'Subject1_Marks', 'Subject2_Marks', 'Subject3_Marks', 'Subject4_Marks', 'Subject5_Marks']\n",
    "    fileobj.writerow(head)\n",
    "    fileobj.writerows(data)\n"
   ]
  },
  {
   "cell_type": "markdown",
   "id": "81355a5d",
   "metadata": {},
   "source": [
    "### 4. Read result.csv file and Print Total Marks and Grade of each student. Also Append Total Marks and Grade                column into result.csv file."
   ]
  },
  {
   "cell_type": "code",
   "execution_count": 22,
   "id": "8ee32c0a",
   "metadata": {},
   "outputs": [
    {
     "name": "stdout",
     "output_type": "stream",
     "text": [
      "Student_ID,Student_Name,Subject1_Marks,Subject2_Marks,Subject3_Marks,Subject4_Marks,Subject5_Marks,Total_Marks,Percentage,Grade\r\n",
      "\n",
      "1,Jay Sharma,67,78,77,88,56,366,73.2,B\r\n",
      "\n",
      "2,Shree Patel,75,77,65,87,66,370,74.0,B\r\n",
      "\n",
      "3,Ram Sharma,67,78,77,88,56,366,73.2,B\r\n",
      "\n",
      "4,Ram Patel,49,35,45,58,60,247,49.4,D\r\n",
      "\n",
      "5,Shiv Desai,55,40,67,68,56,286,57.199999999999996,C\r\n",
      "\n",
      "6,Shivu Patel,92,93,96,88,85,454,90.8,A+\r\n",
      "\n",
      "7,Krishna Prajapati,29,35,43,40,51,198,39.6,D\r\n",
      "\n",
      "8,Krish Patel,70,65,55,62,56,308,61.6,C\r\n",
      "\n",
      "9,Radhika Sharma,87,85,77,70,88,407,81.39999999999999,A\r\n",
      "\n",
      "10,Radha Desai,89,98,87,88,86,448,89.60000000000001,A\r\n",
      "\n"
     ]
    }
   ],
   "source": [
    "with open('D://PythonPractice//result1.csv', 'r', newline='') as file, open('D://PythonPractice//mainresult2.csv', 'w+', newline='') as file2:\n",
    "    allre=csv.reader(file)\n",
    "    fileobj=csv.writer(file2)\n",
    "    head=next(allre)\n",
    "    head.extend(['Total_Marks','Percentage','Grade'])\n",
    "    fileobj.writerow(head)\n",
    "    for i in allre:\n",
    "        totalmarks=int(i[2])+int(i[3])+int(i[4])+int(i[5])+int(i[6])\n",
    "        i.append(totalmarks)\n",
    "        percentage=i[7]/500*100\n",
    "        if percentage >= 90:\n",
    "            grade = 'A+'\n",
    "        elif percentage >= 80:\n",
    "            grade = 'A'\n",
    "        elif percentage >= 70:\n",
    "            grade = 'B'\n",
    "        elif percentage >=55 and percentage < 70:\n",
    "            grade = 'C'\n",
    "        elif percentage >=30 and percentage < 55 :\n",
    "            grade = 'D'\n",
    "        else:\n",
    "            grade = 'Fail'\n",
    "        i.extend([percentage,grade])\n",
    "        fileobj.writerow(i)\n",
    "    file2.seek(0)\n",
    "    \n",
    "    allrecords = file2.readlines()\n",
    "    for record in allrecords: \n",
    "            print(record)"
   ]
  },
  {
   "cell_type": "markdown",
   "id": "e5b35de0",
   "metadata": {},
   "source": [
    "### 5. List out Top 3 Student id and name with its percentage."
   ]
  },
  {
   "cell_type": "code",
   "execution_count": 25,
   "id": "7ee398cb",
   "metadata": {},
   "outputs": [
    {
     "name": "stdout",
     "output_type": "stream",
     "text": [
      " Student_ID      Student_Name       Percentage   \n",
      "-----------------------------------------------------\n",
      "     6           Shivu Patel           90.8       \n",
      "     10          Radha Desai      89.60000000000001 \n",
      "     9          Radhika Sharma    81.39999999999999 \n"
     ]
    }
   ],
   "source": [
    "with open('D://PythonPractice//mainresult2.csv', 'r', newline='') as file2:\n",
    "    head = next(file2)\n",
    "    header = \"{:^12} {:^20} {:^15}\\n-----------------------------------------------------\".format('Student_ID', 'Student_Name', 'Percentage')\n",
    "    print(header)\n",
    "    d = csv.reader(file2)\n",
    "    d = sorted(d, key=lambda stud: stud[8], reverse=True)\n",
    "    c=0\n",
    "\n",
    "    for i in d:\n",
    "        record_line = \"{:^12} {:^20} {:^15} \".format(i[0], i[1], i[8])\n",
    "        print(record_line)\n",
    "        c+=1\n",
    "        if c==3:\n",
    "            break"
   ]
  },
  {
   "cell_type": "code",
   "execution_count": null,
   "id": "83b378c3",
   "metadata": {},
   "outputs": [],
   "source": []
  }
 ],
 "metadata": {
  "kernelspec": {
   "display_name": "Python 3 (ipykernel)",
   "language": "python",
   "name": "python3"
  },
  "language_info": {
   "codemirror_mode": {
    "name": "ipython",
    "version": 3
   },
   "file_extension": ".py",
   "mimetype": "text/x-python",
   "name": "python",
   "nbconvert_exporter": "python",
   "pygments_lexer": "ipython3",
   "version": "3.11.4"
  }
 },
 "nbformat": 4,
 "nbformat_minor": 5
}
