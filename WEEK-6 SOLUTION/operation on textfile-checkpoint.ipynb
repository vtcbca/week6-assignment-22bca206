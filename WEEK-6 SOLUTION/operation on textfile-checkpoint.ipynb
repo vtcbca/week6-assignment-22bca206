{
 "cells": [
  {
   "cell_type": "markdown",
   "id": "0e2109f5",
   "metadata": {},
   "source": [
    "### Program 1 : Read Python.txt file and Print it in Reverse."
   ]
  },
  {
   "cell_type": "code",
   "execution_count": 1,
   "id": "6b4860f2",
   "metadata": {
    "scrolled": true
   },
   "outputs": [
    {
     "name": "stdout",
     "output_type": "stream",
     "text": [
      "The popularity of Python is growing rapidly. Now it's one of the most popular programming languages.\n",
      "Python allows you to write programs in fewer lines of code than most of the programming languages.\r\n",
      "\n",
      "Python has a lot of applications. It's used for developing web applications, data science, rapid application development, and so on.\r\n",
      "\n",
      "Python is easy to learn. Its syntax is easy and code is very readable.\r\n",
      "\n",
      "Why Learn Python?\r\n",
      "\n",
      "This makes Python a great language to learn for beginners.\r\n",
      "\n",
      "Fortunately for beginners, Python has a simple, easy-to-use syntax. \r\n",
      "\n",
      "It is used in machine learning, web development, desktop applications, and many other fields. \r\n",
      "\n",
      "It was created by Guido van Rossum, and released in 1991.\r\n",
      "\n",
      "Python is a popular general-purpose programming language.\r\n",
      "\n"
     ]
    }
   ],
   "source": [
    "with open('D:\\PythonPractice\\python.txt','r',newline='') as fileobj:\n",
    "    filedata=fileobj.readlines()[::-1]\n",
    "    for row in filedata:\n",
    "        print(row)"
   ]
  },
  {
   "cell_type": "markdown",
   "id": "7176e5b2",
   "metadata": {},
   "source": [
    "### Program 2 : Read Python.txt file and Print total number of lines and words in it."
   ]
  },
  {
   "cell_type": "code",
   "execution_count": 17,
   "id": "251c1a04",
   "metadata": {},
   "outputs": [
    {
     "name": "stdout",
     "output_type": "stream",
     "text": [
      "\n",
      "Total Number Of Lines In This File: 10\n",
      "\n",
      "Words In Each Lines Are As Follow : \n",
      "==================================\n",
      " Words In 1 line Of File : 7\n",
      " Words In 2 line Of File : 11\n",
      " Words In 3 line Of File : 15\n",
      " Words In 4 line Of File : 10\n",
      " Words In 5 line Of File : 10\n",
      " Words In 6 line Of File : 3\n",
      " Words In 7 line Of File : 14\n",
      " Words In 8 line Of File : 20\n",
      " Words In 9 line Of File : 17\n",
      " Words In 10 line Of File : 16\n"
     ]
    }
   ],
   "source": [
    "with open('D:\\PythonPractice\\python.txt', 'r', newline='') as fileobj:\n",
    "    filedata = fileobj.readlines()\n",
    "    print(f'\\nTotal Number Of Lines In This File: {len(filedata)}\\n')\n",
    "    print('Words In Each Lines Are As Follow : \\n==================================')\n",
    "    for i in range(0,len(filedata)):\n",
    "        c = filedata[i].split(' ')\n",
    "        print(f' Words In {i+1} line Of File : {len(c)}')"
   ]
  },
  {
   "cell_type": "markdown",
   "id": "69d4ca75",
   "metadata": {},
   "source": [
    "### Program 3 : Read Python.txt file and Print unique word with its count."
   ]
  },
  {
   "cell_type": "code",
   "execution_count": 4,
   "id": "2c579477",
   "metadata": {},
   "outputs": [
    {
     "name": "stdout",
     "output_type": "stream",
     "text": [
      "\n",
      "Unique Words and Their Counts:\n",
      "==================================\n",
      "Python = 8\n",
      "is = 6\n",
      "a = 4\n",
      "popular = 2\n",
      "general-purpose = 1\n",
      "programming = 3\n",
      "language = 2\n",
      "It = 2\n",
      "was = 1\n",
      "created = 1\n",
      "by = 1\n",
      "Guido = 1\n",
      "van = 1\n",
      "Rossum = 1\n",
      "and = 4\n",
      "released = 1\n",
      "in = 3\n",
      "1991 = 1\n",
      "used = 2\n",
      "machine = 1\n",
      "learning = 1\n",
      "web = 2\n",
      "development = 2\n",
      "desktop = 1\n",
      "applications = 3\n",
      "many = 1\n",
      "other = 1\n",
      "fields = 1\n",
      "Fortunately = 1\n",
      "for = 3\n",
      "beginners = 2\n",
      "has = 2\n",
      "simple = 1\n",
      "easy-to-use = 1\n",
      "syntax = 2\n",
      "This = 1\n",
      "makes = 1\n",
      "great = 1\n",
      "to = 3\n",
      "learn = 2\n",
      "Why = 1\n",
      "Learn = 1\n",
      "easy = 2\n",
      "Its = 1\n",
      "code = 2\n",
      "very = 1\n",
      "readable = 1\n",
      "lot = 1\n",
      "of = 5\n",
      "It's = 1\n",
      "developing = 1\n",
      "data = 1\n",
      "science = 1\n",
      "rapid = 1\n",
      "application = 1\n",
      "so = 1\n",
      "on = 1\n",
      "allows = 1\n",
      "you = 1\n",
      "write = 1\n",
      "programs = 1\n",
      "fewer = 1\n",
      "lines = 1\n",
      "than = 1\n",
      "most = 2\n",
      "the = 2\n",
      "languages = 2\n",
      "The = 1\n",
      "popularity = 1\n",
      "growing = 1\n",
      "rapidly = 1\n",
      "Now = 1\n",
      "it's = 1\n",
      "one = 1\n"
     ]
    }
   ],
   "source": [
    "with open('D:\\PythonPractice\\python.txt', 'r') as fileobj:\n",
    "    filedata = fileobj.readlines()\n",
    "    word_count = {}  \n",
    "    \n",
    "    for line in filedata:\n",
    "        words = line.split()\n",
    "        for word in words:\n",
    "            word = word.strip('.,!?()[]{}\":;')\n",
    "            if word in word_count:\n",
    "                word_count[word] += 1  # Increment count if the word exists in the dictionary\n",
    "            else:\n",
    "                word_count[word] = 1  # Initialize count to 1 if the word is not in the dictionary\n",
    "\n",
    "    print('\\nUnique Words and Their Counts:\\n==================================')\n",
    "    for word, count in word_count.items():\n",
    "        print(f'{word} = {count}')\n",
    "                \n",
    "                \n",
    "    "
   ]
  },
  {
   "cell_type": "markdown",
   "id": "7c476869",
   "metadata": {},
   "source": [
    "### Program 4 : Read Python.txt file and Print largest and smallest word from it."
   ]
  },
  {
   "cell_type": "code",
   "execution_count": 6,
   "id": "d7099f49",
   "metadata": {},
   "outputs": [
    {
     "name": "stdout",
     "output_type": "stream",
     "text": [
      "The longest word is 'a' with a length of 1 characters.\n",
      "The longest word is 'general-purpose' with a length of 15 characters.\n"
     ]
    }
   ],
   "source": [
    "with open('D:\\\\PythonPractice\\\\python.txt', 'r', newline='') as fobj:\n",
    "    data = fobj.read()\n",
    "    words = data.split()  \n",
    "    word_lengths = [len(word) for word in words]\n",
    "    max_length = max(word_lengths)\n",
    "    index_of_max_length = word_lengths.index(max_length)\n",
    "    longest_word = words[index_of_max_length]\n",
    "    min_length=word_lengths.index(min(word_lengths))\n",
    "    smallest_word=words[min_length]\n",
    "    print(f\"The longest word is '{smallest_word}' with a length of {min(word_lengths)} characters.\")\n",
    "    print(f\"The longest word is '{longest_word}' with a length of {max_length} characters.\")\n"
   ]
  },
  {
   "cell_type": "markdown",
   "id": "5b1dd37e",
   "metadata": {},
   "source": [
    "### Program 5: Read Python.txt file. Convert it into upper case and write into another file \"Python_Upper.txt\""
   ]
  },
  {
   "cell_type": "code",
   "execution_count": 17,
   "id": "5f891638",
   "metadata": {},
   "outputs": [
    {
     "name": "stdout",
     "output_type": "stream",
     "text": [
      "PYTHON IS A POPULAR GENERAL-PURPOSE PROGRAMMING LANGUAGE.\r\n",
      "IT WAS CREATED BY GUIDO VAN ROSSUM, AND RELEASED IN 1991.\r\n",
      "IT IS USED IN MACHINE LEARNING, WEB DEVELOPMENT, DESKTOP APPLICATIONS, AND MANY OTHER FIELDS. \r\n",
      "FORTUNATELY FOR BEGINNERS, PYTHON HAS A SIMPLE, EASY-TO-USE SYNTAX. \r\n",
      "THIS MAKES PYTHON A GREAT LANGUAGE TO LEARN FOR BEGINNERS.\r\n",
      "WHY LEARN PYTHON?\r\n",
      "PYTHON IS EASY TO LEARN. ITS SYNTAX IS EASY AND CODE IS VERY READABLE.\r\n",
      "PYTHON HAS A LOT OF APPLICATIONS. IT'S USED FOR DEVELOPING WEB APPLICATIONS, DATA SCIENCE, RAPID APPLICATION DEVELOPMENT, AND SO ON.\r\n",
      "PYTHON ALLOWS YOU TO WRITE PROGRAMS IN FEWER LINES OF CODE THAN MOST OF THE PROGRAMMING LANGUAGES.\r\n",
      "THE POPULARITY OF PYTHON IS GROWING RAPIDLY. NOW IT'S ONE OF THE MOST POPULAR PROGRAMMING LANGUAGES.\n"
     ]
    }
   ],
   "source": [
    "with open('D:\\PythonPractice\\python.txt','r',newline='') as fobj1:\n",
    "    filedata=fobj1.read()\n",
    "    with open('D:\\PythonPractice\\python_Upper.txt','w',newline='') as fobj2:\n",
    "            for rows in filedata:\n",
    "                fobj2.write(rows.upper())\n",
    "\n",
    "#read file python_upper.txt\n",
    "with open('D:\\PythonPractice\\python_Upper.txt','r',newline='') as fobj:\n",
    "        data=fobj.read()\n",
    "        print(data)\n",
    "        "
   ]
  },
  {
   "cell_type": "code",
   "execution_count": null,
   "id": "9b36d5da",
   "metadata": {},
   "outputs": [],
   "source": []
  }
 ],
 "metadata": {
  "kernelspec": {
   "display_name": "Python 3 (ipykernel)",
   "language": "python",
   "name": "python3"
  },
  "language_info": {
   "codemirror_mode": {
    "name": "ipython",
    "version": 3
   },
   "file_extension": ".py",
   "mimetype": "text/x-python",
   "name": "python",
   "nbconvert_exporter": "python",
   "pygments_lexer": "ipython3",
   "version": "3.11.4"
  }
 },
 "nbformat": 4,
 "nbformat_minor": 5
}
